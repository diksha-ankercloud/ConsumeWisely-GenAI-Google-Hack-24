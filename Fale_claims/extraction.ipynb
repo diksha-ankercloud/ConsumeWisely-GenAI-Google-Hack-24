{
 "cells": [
  {
   "cell_type": "code",
   "execution_count": 6,
   "metadata": {},
   "outputs": [
    {
     "data": {
      "text/plain": [
       "True"
      ]
     },
     "execution_count": 6,
     "metadata": {},
     "output_type": "execute_result"
    }
   ],
   "source": [
    "import os\n",
    "from dotenv import load_dotenv\n",
    "load_dotenv()"
   ]
  },
  {
   "cell_type": "code",
   "execution_count": 12,
   "metadata": {},
   "outputs": [],
   "source": [
    "cxid = os.environ[\"cxid\"] = os.getenv(\"cxid\")\n",
    "apikey = os.environ[\"apikey\"] = os.getenv(\"apikey\")"
   ]
  },
  {
   "cell_type": "code",
   "execution_count": 14,
   "metadata": {},
   "outputs": [
    {
     "name": "stdout",
     "output_type": "stream",
     "text": [
      "['https://m.media-amazon.com/images/I/71rhGBqb3KL.jpg']\n"
     ]
    }
   ],
   "source": [
    "\n",
    "search_url = \"https://www.googleapis.com/customsearch/v1\"\n",
    "from googleapiclient.discovery import build\n",
    "import requests\n",
    "def downloadImage(searchTerm):\n",
    "    service = build(\"customsearch\", \"v1\",\n",
    "            developerKey=apikey)\n",
    "    params = {\n",
    "        \"q\": searchTerm,\n",
    "        \"cx\": cxid,\n",
    "        \"searchType\": \"image\",\n",
    "        \"num\": 1,\n",
    "        \"fileType\": \"jpg\",\n",
    "        \"imgType\": \"photo\",\n",
    "        \"key\": apikey,\n",
    "    }\n",
    "    response = requests.get(search_url, params=params)\n",
    "    results = response.json()\n",
    "\n",
    "    image_urls = [item[\"link\"] for item in results.get(\"items\", [])]\n",
    "    return image_urls\n",
    "product_images = downloadImage(\"Oreo Original\")\n",
    "print(product_images)\n",
    "\n"
   ]
  },
  {
   "cell_type": "code",
   "execution_count": 15,
   "metadata": {},
   "outputs": [
    {
     "name": "stdout",
     "output_type": "stream",
     "text": [
      "Downloading image: 71rhGBqb3KL.jpg\n",
      "Image saved to: sample-images\\71rhGBqb3KL.jpg\n"
     ]
    }
   ],
   "source": [
    "\n",
    "\n",
    "import os\n",
    "import requests\n",
    "\n",
    "def download_image(image_urls, folder_path='sample-images'):\n",
    "    if not os.path.exists(folder_path):\n",
    "        os.makedirs(folder_path)  # Create the folder if it doesn't exist\n",
    "\n",
    "    for i, image_url in enumerate(image_urls):\n",
    "        try:\n",
    "            image_name = image_url.split(\"/\")[-1].split(\"?\")[0]  # Clean up the image name\n",
    "            image_path = os.path.join(folder_path, image_name)\n",
    "            print(f'Downloading image: {image_name}')\n",
    "\n",
    "            # Get the image content from the URL\n",
    "            response = requests.get(image_url)\n",
    "            response.raise_for_status()  # Check if the request was successful\n",
    "            \n",
    "            # Write the image to the file\n",
    "            with open(image_path, 'wb') as image_file:\n",
    "                image_file.write(response.content)\n",
    "            \n",
    "            print(f'Image saved to: {image_path}')\n",
    "        except requests.exceptions.RequestException as e:\n",
    "            print(f'Error downloading {image_url}: {e}')\n",
    "        except Exception as e:\n",
    "            print(f'Unexpected error: {e}')\n",
    "\n",
    "\n",
    "download_image(product_images)"
   ]
  },
  {
   "cell_type": "code",
   "execution_count": 16,
   "metadata": {},
   "outputs": [
    {
     "name": "stdout",
     "output_type": "stream",
     "text": [
      "['http://5.imimg.com/data5/SELLER/Default/2023/7/329272083/CZ/AA/MO/48534106/61ithcnf1al-sl1500-500x500.jpg']\n"
     ]
    }
   ],
   "source": [
    "\n",
    "search_url = \"https://www.googleapis.com/customsearch/v1\"\n",
    "from googleapiclient.discovery import build\n",
    "import requests\n",
    "def downloadImage(searchTerm):\n",
    "    service = build(\"customsearch\", \"v1\",\n",
    "            developerKey=apikey)\n",
    "    params = {\n",
    "        \"q\": searchTerm,\n",
    "        \"cx\": cxid,\n",
    "        \"searchType\": \"image\",\n",
    "        \"num\": 1,\n",
    "        \"fileType\": \"jpg\",\n",
    "        \"imgType\": \"photo\",\n",
    "        \"key\": apikey,\n",
    "    }\n",
    "    response = requests.get(search_url, params=params)\n",
    "    results = response.json()\n",
    "\n",
    "    image_urls = [item[\"link\"] for item in results.get(\"items\", [])]\n",
    "    return image_urls\n",
    "product_images = downloadImage(\"backside of oreo biscuit packet\")\n",
    "print(product_images)\n",
    "\n"
   ]
  },
  {
   "cell_type": "code",
   "execution_count": 17,
   "metadata": {},
   "outputs": [
    {
     "name": "stdout",
     "output_type": "stream",
     "text": [
      "Downloading image: 61ithcnf1al-sl1500-500x500.jpg\n",
      "Image saved to: sample-images\\61ithcnf1al-sl1500-500x500.jpg\n"
     ]
    }
   ],
   "source": [
    "\n",
    "\n",
    "import os\n",
    "import requests\n",
    "\n",
    "def download_image(image_urls, folder_path='sample-images'):\n",
    "    if not os.path.exists(folder_path):\n",
    "        os.makedirs(folder_path)  # Create the folder if it doesn't exist\n",
    "\n",
    "    for i, image_url in enumerate(image_urls):\n",
    "        try:\n",
    "            image_name = image_url.split(\"/\")[-1].split(\"?\")[0]  # Clean up the image name\n",
    "            image_path = os.path.join(folder_path, image_name)\n",
    "            print(f'Downloading image: {image_name}')\n",
    "\n",
    "            # Get the image content from the URL\n",
    "            response = requests.get(image_url)\n",
    "            response.raise_for_status()  # Check if the request was successful\n",
    "            \n",
    "            # Write the image to the file\n",
    "            with open(image_path, 'wb') as image_file:\n",
    "                image_file.write(response.content)\n",
    "            \n",
    "            print(f'Image saved to: {image_path}')\n",
    "        except requests.exceptions.RequestException as e:\n",
    "            print(f'Error downloading {image_url}: {e}')\n",
    "        except Exception as e:\n",
    "            print(f'Unexpected error: {e}')\n",
    "\n",
    "\n",
    "download_image(product_images)"
   ]
  },
  {
   "cell_type": "code",
   "execution_count": null,
   "metadata": {},
   "outputs": [],
   "source": []
  }
 ],
 "metadata": {
  "kernelspec": {
   "display_name": "Python 3",
   "language": "python",
   "name": "python3"
  },
  "language_info": {
   "codemirror_mode": {
    "name": "ipython",
    "version": 3
   },
   "file_extension": ".py",
   "mimetype": "text/x-python",
   "name": "python",
   "nbconvert_exporter": "python",
   "pygments_lexer": "ipython3",
   "version": "3.11.9"
  }
 },
 "nbformat": 4,
 "nbformat_minor": 2
}
