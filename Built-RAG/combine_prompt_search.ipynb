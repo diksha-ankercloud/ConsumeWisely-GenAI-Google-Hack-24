{
 "cells": [
  {
   "cell_type": "code",
   "execution_count": 20,
   "metadata": {},
   "outputs": [
    {
     "name": "stderr",
     "output_type": "stream",
     "text": [
      "\n",
      "[notice] A new release of pip is available: 24.0 -> 24.2\n",
      "[notice] To update, run: python.exe -m pip install --upgrade pip\n",
      "\n",
      "[notice] A new release of pip is available: 24.0 -> 24.2\n",
      "[notice] To update, run: python.exe -m pip install --upgrade pip\n"
     ]
    }
   ],
   "source": [
    "!pip install --upgrade --user --quiet google-cloud-aiplatform\n",
    "!pip install -qU langchain-google-genai"
   ]
  },
  {
   "cell_type": "code",
   "execution_count": 30,
   "metadata": {},
   "outputs": [],
   "source": [
    "import getpass\n",
    "import os\n",
    "from dotenv import load_dotenv\n",
    "import base64\n",
    "from langchain_core.prompts import HumanMessagePromptTemplate, ChatPromptTemplate\n",
    "from langchain_core.messages import SystemMessage, HumanMessage\n",
    "from IPython.display import Markdown, display\n",
    "from langchain_google_genai import ChatGoogleGenerativeAI\n",
    "from vertexai.preview.generative_models import grounding as preview_grounding"
   ]
  },
  {
   "cell_type": "code",
   "execution_count": 58,
   "metadata": {},
   "outputs": [],
   "source": [
    "load_dotenv()\n",
    "os.environ[\"GOOGLE_API_KEY\"] = os.getenv(\"GOOGLE_API_KEY\")\n",
    "os.environ['GOOGLE_APPLICATION_CREDENTIALS'] = \"search_keys.json\"\n"
   ]
  },
  {
   "cell_type": "code",
   "execution_count": 59,
   "metadata": {},
   "outputs": [],
   "source": [
    "PROJECT_ID = \"vision-forge-414908\"  # @param {type:\"string\"}\n",
    "REGION = \"us-central1\"  # @param {type: \"string\"}"
   ]
  },
  {
   "cell_type": "code",
   "execution_count": 60,
   "metadata": {},
   "outputs": [],
   "source": [
    "import vertexai\n",
    "vertexai.init(project=PROJECT_ID, location=REGION)"
   ]
  },
  {
   "cell_type": "code",
   "execution_count": 61,
   "metadata": {},
   "outputs": [],
   "source": [
    "model_ground = GenerativeModel(\"gemini-1.5-pro\")"
   ]
  },
  {
   "cell_type": "code",
   "execution_count": 62,
   "metadata": {},
   "outputs": [],
   "source": [
    "from vertexai.generative_models import (\n",
    "    GenerationResponse,\n",
    "    GenerativeModel,\n",
    "    Tool,\n",
    "    grounding,\n",
    ")\n"
   ]
  },
  {
   "cell_type": "code",
   "execution_count": 105,
   "metadata": {},
   "outputs": [],
   "source": [
    "product = \"parle g biscuit\" \n",
    "PROMPT = f\"only give me the nutritional(benefits/harms) content regarding the consumptions of {product}. ALso if there is any recent news regarding {product}\"\n",
    "tool = Tool.from_google_search_retrieval(grounding.GoogleSearchRetrieval())\n",
    "response = model_ground.generate_content(PROMPT, tools=[tool])\n",
    "#print(response.candidates[0].content.parts[0].text)\n",
    "response_grounding = response.candidates[0].content.parts[0].text"
   ]
  },
  {
   "cell_type": "code",
   "execution_count": 106,
   "metadata": {},
   "outputs": [],
   "source": [
    "from langchain_google_genai import ChatGoogleGenerativeAI\n",
    "\n",
    "model = ChatGoogleGenerativeAI(\n",
    "    model=\"gemini-1.5-pro\",\n",
    "    temperature=0,\n",
    "    max_tokens=None,\n",
    "    timeout=None,\n",
    "    max_retries=2,\n",
    "    \n",
    ")"
   ]
  },
  {
   "cell_type": "code",
   "execution_count": 107,
   "metadata": {},
   "outputs": [],
   "source": [
    "chat_prompt = ChatPromptTemplate.from_messages(\n",
    "    messages=[\n",
    "        SystemMessage(\n",
    "            content='''You are well experienced dietician and nutritionist. You will be given the Gae, height, weight and dietary precautions and goals of the person. \n",
    "                        You will be given a product and its ingredients select one from each category based on the ingredients and health goals of the person.\n",
    "                        Category 1: how frequently can i consume it based on my weight goals:\n",
    "                        1. daily consumption\n",
    "                        2. weekly consumption\n",
    "                        3. monthly consumption\n",
    "                        Category 2: and as per my diet is this food :\n",
    "                        1. nutritional\n",
    "                        2. recreations\n",
    "                        3.  or regular consumption for me\n",
    "\n",
    "                        Category 3: If the food product follows any of the following:\n",
    "                        1. Organic\n",
    "                        2. Sustainable: \n",
    "                        3. Supports Small Businesses\n",
    "                        4. Animal Cruelty-Free: \n",
    "\n",
    "                        Category 4: flag alergens if they are related to my allergy otherwise don't flag a warning\n",
    "                        Category 5: you need to also flag diet type match this with the input of user info and flag if it is suitable for their dietary type or restrictions.\n",
    "                        Category 6: Alert if there is a higher presence of nutrients desired in low qty (fats, sugar, sodium, calories)\n",
    "                        Your final answer should only contain tags among one option of each category based on product nutrition analysis.\n",
    "                        If the answer is None just drom that category output.\n",
    "                        Finally if the 4 out of 6 categories are suitable for this user add that as highly recommended product.\n",
    "                        Your next input will be the info of the person, the name of the product, and screeshot of the ingredients\n",
    "            '''),\n",
    "        HumanMessagePromptTemplate.from_template(\n",
    "            template= \n",
    "                '''The person's info is as follows:\n",
    "                Person info: I am a {gender} who is {age} years old, my weight is {weight}, my height is {height}, I am {diet_type} and I want to {health_goal}. Allergic to {allergen}.\n",
    "                Product info: {product_info_str}\n",
    "                'image_url': \"data:image/jpeg;base64,{image_data}\"'''\n",
    "\n",
    "            \n",
    "           \n",
    "            \n",
    "            ),\n",
    "       \n",
    "    ]\n",
    ")"
   ]
  },
  {
   "cell_type": "code",
   "execution_count": 108,
   "metadata": {},
   "outputs": [],
   "source": [
    "chain = chat_prompt | model \n",
    "\n",
    "# Path to the image file\n",
    "image_path = r\"C:\\Users\\DELL\\Downloads\\13-Google-GenAI-Hack-24\\GenAI-Google--Hack-24\\Built-RAG\\parle-g.png\"\n",
    "\n",
    "# Read and convert the image to base64\n",
    "with open(image_path, \"rb\") as image_file:\n",
    "    image_data = base64.b64encode(image_file.read()).decode(\"utf-8\")\n",
    "\n",
    "\n"
   ]
  },
  {
   "cell_type": "code",
   "execution_count": 109,
   "metadata": {},
   "outputs": [],
   "source": [
    "response_from_model = chain.invoke(\n",
    "    {\n",
    "        \n",
    "        \"image_data\": image_data,\n",
    "        \"age\":\"34\",\n",
    "        \"weight\": \"168kg\",\n",
    "        \"gender\": \"male\",\n",
    "        \"height\":\"5 ft\",\n",
    "        \"diet_type\": \"jain\",\n",
    "        \"health_goal\": \"loose 50 kgs\",\n",
    "        \"allergen\": \"peanuts\",\n",
    "        \"product_info\":\"Pringles Potato Chips Desi Masala Tadka Flavor Pack of 4, Crispy Snack for Game Nights Chips (4 x 102 g)\",\n",
    "        \"product_info_str\": response_grounding\n",
    "        \n",
    "\n",
    "    }\n",
    ")"
   ]
  },
  {
   "cell_type": "code",
   "execution_count": 110,
   "metadata": {},
   "outputs": [
    {
     "data": {
      "text/plain": [
       "'Weekly consumption, Recreational, None,  Allergy warning: Contains peanuts, Jain, Higher presence of Sugar and fats \\n'"
      ]
     },
     "execution_count": 110,
     "metadata": {},
     "output_type": "execute_result"
    }
   ],
   "source": [
    "response_from_model.content\n"
   ]
  },
  {
   "cell_type": "code",
   "execution_count": null,
   "metadata": {},
   "outputs": [],
   "source": []
  }
 ],
 "metadata": {
  "kernelspec": {
   "display_name": "Python 3",
   "language": "python",
   "name": "python3"
  },
  "language_info": {
   "codemirror_mode": {
    "name": "ipython",
    "version": 3
   },
   "file_extension": ".py",
   "mimetype": "text/x-python",
   "name": "python",
   "nbconvert_exporter": "python",
   "pygments_lexer": "ipython3",
   "version": "3.11.9"
  }
 },
 "nbformat": 4,
 "nbformat_minor": 2
}
