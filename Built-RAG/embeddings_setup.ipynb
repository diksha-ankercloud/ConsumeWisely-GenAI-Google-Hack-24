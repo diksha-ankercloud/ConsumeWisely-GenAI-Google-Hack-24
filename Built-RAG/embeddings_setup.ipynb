{
 "cells": [
  {
   "cell_type": "code",
   "execution_count": 1,
   "metadata": {},
   "outputs": [],
   "source": [
    "from langchain_community.document_loaders import PyPDFLoader\n",
    "import lancedb\n",
    "from langchain_community.vectorstores import LanceDB\n",
    "from langchain_huggingface import HuggingFaceEmbeddings\n",
    "from langchain.text_splitter import RecursiveCharacterTextSplitter\n",
    "\n"
   ]
  },
  {
   "cell_type": "code",
   "execution_count": 5,
   "metadata": {},
   "outputs": [],
   "source": [
    "model = HuggingFaceEmbeddings(model_name = 'all-MiniLM-L6-v2')"
   ]
  },
  {
   "cell_type": "code",
   "execution_count": 11,
   "metadata": {},
   "outputs": [],
   "source": [
    "path = [ \n",
    "      \n",
    "        \"../RAG/resume.pdf\",\n",
    "        \"../RAG/resume copy.pdf\"\n",
    "    \n",
    "]"
   ]
  },
  {
   "cell_type": "code",
   "execution_count": 13,
   "metadata": {},
   "outputs": [],
   "source": [
    "docs = [PyPDFLoader(url).load() for url in path]\n",
    "docs_list = [item for sublist in docs for item in sublist]\n",
    "text_splitter = RecursiveCharacterTextSplitter.from_tiktoken_encoder(\n",
    "    chunk_size=1000, chunk_overlap=50\n",
    ")\n",
    "doc_splits = text_splitter.split_documents(docs_list)\n"
   ]
  },
  {
   "cell_type": "code",
   "execution_count": 14,
   "metadata": {},
   "outputs": [
    {
     "data": {
      "text/plain": [
       "[Document(metadata={'source': '../RAG/resume.pdf', 'page': 0}, page_content=\"Prompt Engineering for LLMs\\nGenerative AI Solutions (GPT, Claude,\\nStable Diffusion, GANs, Langchain)\\nAWS and GCP cloud services(Bedrock,\\nSagemaker, Amazon Titan)\\nMLOps and DevOps (AWS & GCP)\\nDeep Learning (Tensorflow, Keras)\\nArtificial Intelligence and Machine\\nLearning\\nComputer Vision (Pytorch)\\nCognitive Learning (NLP)\\nData Analytics and Visualization\\n(PowerBI , Tableau)\\nDatabase Management\\nFront-end Development\\nPython (Django)TECH SKILLSEDUCATION\\n Jain (Deemed-to-be) University, Bangalore\\n2020-2024\\nSOFT SKILLS\\nProblem-Solving\\nCritical Thinking\\nPublic Speaking\\nTeam Management\\nConflict Resolution\\nCommunication\\nProfessional presentation\\nHackathon managementBachelor of Technology in Computer Science and Engineering \\nspecializing in Artificial Intelligence and Machine Learning\\nSGPA: 9.82/10\\nEXPERIENCESri Chaitanya Techno School, Bangalore\\nPhysics, Chemistry, Math, Biology11 th-12th - CBSE\\n2020\\nPercentage: 86.4%\\nBGS Public School, Bangalore\\n  10th - CBSE\\n  2018\\nPercentage: 95.3%\\nMachine Learning and NLP Intern\\nAnalyser Studios                                       April 2023-July 2023\\nDesigning, building and configuring various ML models to meet client\\nmodels and time to time upgradation of target product.Bangalore, Indiahttps://github.com/diksha-ashkidAs an engineer I believe in contributing smart solutions to the\\nindustry. My primary objectives are to develop intelligent\\nsystems which can help humanity and society benefit from their\\nspeed and efficiency. \\nDIKSHA CHAKRAVARTY\\nAI&ML ENGINEER\\n+91 9900474009dc.dikshachakravarty@gmail.comPROFILE\\nhttps://www.linkedin.com/in/diksha-\\nchakravarty-826160206/\\nData Science Intern\\nWise Analytica, London                 August 2023-September 2023\\nWorked  with real time customer data, Draw insights and building NLP models\\nfor customer data analysis and predictions over social media profiles.Artificial Intelligence and Machine Learning Intern\\nPeak Health Technologies Pvt Ltd          August 2023-Nov 2023       \\nWorking on prompt tuning and LLM's for product diversification. LLM fine-\\ntuning as well as full stack development using React, Django and MongoDB.Machine Learning Engineer\\nAnkercloud Technologies                      January 2024-Current        \\nWorked on prompt engineering and  LLM fine tuning and pretraining. Handled\\nprojects on Google Cloud Platform as well as Amazon(Sagemaker).\"),\n",
       " Document(metadata={'source': '../RAG/resume.pdf', 'page': 1}, page_content='AWARDS &\\nACHIEVEMENTS\\nTECHNICAL PAPERSLensFleur\\nA multilingual platform for all farmers and botanical enthusiasts. Detection of\\ndiseases in plants using OpenCV and Deep Learning.https://github.com/diksha-ashkid/Centuriton-Hackathon_Flora.AI\\nSpyTrash\\nClassification and Management of waste to help municipalities and the\\ncommunity using Computer Vision and CNNshttps://github.com/diksha-ashkid/DC-KASH-REVAHACK\\nHealthSync\\nA digital health tracker application that uses a backend recommender\\nsystem using ML and a OCR detection to make the process of doctor\\nappointments and clinic visiting easier.https://github.com/diksha-ashkid/HealthSync\\nCustom Image generator using Stable Diffusion\\nDeveloping a customised stable diffusion model using the LoRA training\\ntechnique to create particular products that are derived from current client\\nor use case. Deploying it on AWS services and GCP. Through Sagemaker,\\nBedrock and latter with VertexAI. MLOps pipeline also delivered.Synthetic Data Generator Using Gen AI\\nA sophisticated algorithm capable of generating photorealistic images that\\nrepresent the intricacies of urban driving scenes in India, using the stable\\ndiffuser model and prompt engineeringhttps://github.com/diksha-ashkid/Hacktonauts-Synthetic-AI-Generated-\\nDataset-AlgorithmPROJECTS\\nDecentralization and Virtualization of Clinical trials\\nIdentification of human diseases using ensemble learning\\ntechniques and OpenCV.\\nSociological Transformations of Robotics\\nSociological and societal impact of robotics throughout the\\ndecades.\\nMonitoring and Propagation Alert Information in the\\nCloud\\nPaper on alerts in the case of natural disasters near cloud\\nstorage serversWinner of AWS GenAI Hackathon 2024.\\nWinner of [-1] The Ultimate GenAI Challenge\\nOctober 2023 by Minus Zrero\\nGoogle-Solving for India Regional level\\nqualifiers and college level winners.\\nWinner at Tech Tonic Hackathon organized\\nby Futurense Tech, May 2023\\n1st Runner Up at Quest Global Ingenium 2023\\na National Level Hackathon among 1800+\\nteams.\\nWinner of Student Academic Success\\nPrediction Hackathon by MachineHack\\nNovember 2022 \\nWinner at CentuRITon National Level\\nHackathon November 2022 \\n3AI Pinnacle Award 2022 in the “AI & Analytics\\nStudent of the Year” category 2022\\n Best paper award at Jnana Chilume National\\nConference,2020\\nFinalists at Unlock 2022 Hack Series October\\n2022\\nCERTIFICATIONS\\nGoogle certified Associate Machine Learning\\nEngineer\\nStarting with Deep Learning, NVIDIA\\nIntroduction to Generative AI-Google Cloud\\nand Coursera\\n Google Cloud Career Practitioner\\nCertification, Google\\nJava 8 Essentials Training, Linkedin\\n4.0 Tech 1010 Certificate, iB HubsData Analytics Virtual Internship \\nKPMG, AU                                                 Jan 2023-Feb 2022\\nAnalysis, drawing insights and visualization of real-time customer datasets.\\nDrawing solutions for better development using current data\\nData Science and Business Analytics Intern\\nThe Sparks Foundation                              April 2022- May 2022\\nImplementing Business Analytics using Data Science and Machine learning\\nmodels with various case studies'),\n",
       " Document(metadata={'source': '../RAG/resume copy.pdf', 'page': 0}, page_content=\"Prompt Engineering for LLMs\\nGenerative AI Solutions (GPT, Claude,\\nStable Diffusion, GANs, Langchain)\\nAWS and GCP cloud services(Bedrock,\\nSagemaker, Amazon Titan)\\nMLOps and DevOps (AWS & GCP)\\nDeep Learning (Tensorflow, Keras)\\nArtificial Intelligence and Machine\\nLearning\\nComputer Vision (Pytorch)\\nCognitive Learning (NLP)\\nData Analytics and Visualization\\n(PowerBI , Tableau)\\nDatabase Management\\nFront-end Development\\nPython (Django)TECH SKILLSEDUCATION\\n Jain (Deemed-to-be) University, Bangalore\\n2020-2024\\nSOFT SKILLS\\nProblem-Solving\\nCritical Thinking\\nPublic Speaking\\nTeam Management\\nConflict Resolution\\nCommunication\\nProfessional presentation\\nHackathon managementBachelor of Technology in Computer Science and Engineering \\nspecializing in Artificial Intelligence and Machine Learning\\nSGPA: 9.82/10\\nEXPERIENCESri Chaitanya Techno School, Bangalore\\nPhysics, Chemistry, Math, Biology11 th-12th - CBSE\\n2020\\nPercentage: 86.4%\\nBGS Public School, Bangalore\\n  10th - CBSE\\n  2018\\nPercentage: 95.3%\\nMachine Learning and NLP Intern\\nAnalyser Studios                                       April 2023-July 2023\\nDesigning, building and configuring various ML models to meet client\\nmodels and time to time upgradation of target product.Bangalore, Indiahttps://github.com/diksha-ashkidAs an engineer I believe in contributing smart solutions to the\\nindustry. My primary objectives are to develop intelligent\\nsystems which can help humanity and society benefit from their\\nspeed and efficiency. \\nDIKSHA CHAKRAVARTY\\nAI&ML ENGINEER\\n+91 9900474009dc.dikshachakravarty@gmail.comPROFILE\\nhttps://www.linkedin.com/in/diksha-\\nchakravarty-826160206/\\nData Science Intern\\nWise Analytica, London                 August 2023-September 2023\\nWorked  with real time customer data, Draw insights and building NLP models\\nfor customer data analysis and predictions over social media profiles.Artificial Intelligence and Machine Learning Intern\\nPeak Health Technologies Pvt Ltd          August 2023-Nov 2023       \\nWorking on prompt tuning and LLM's for product diversification. LLM fine-\\ntuning as well as full stack development using React, Django and MongoDB.Machine Learning Engineer\\nAnkercloud Technologies                      January 2024-Current        \\nWorked on prompt engineering and  LLM fine tuning and pretraining. Handled\\nprojects on Google Cloud Platform as well as Amazon(Sagemaker).\"),\n",
       " Document(metadata={'source': '../RAG/resume copy.pdf', 'page': 1}, page_content='AWARDS &\\nACHIEVEMENTS\\nTECHNICAL PAPERSLensFleur\\nA multilingual platform for all farmers and botanical enthusiasts. Detection of\\ndiseases in plants using OpenCV and Deep Learning.https://github.com/diksha-ashkid/Centuriton-Hackathon_Flora.AI\\nSpyTrash\\nClassification and Management of waste to help municipalities and the\\ncommunity using Computer Vision and CNNshttps://github.com/diksha-ashkid/DC-KASH-REVAHACK\\nHealthSync\\nA digital health tracker application that uses a backend recommender\\nsystem using ML and a OCR detection to make the process of doctor\\nappointments and clinic visiting easier.https://github.com/diksha-ashkid/HealthSync\\nCustom Image generator using Stable Diffusion\\nDeveloping a customised stable diffusion model using the LoRA training\\ntechnique to create particular products that are derived from current client\\nor use case. Deploying it on AWS services and GCP. Through Sagemaker,\\nBedrock and latter with VertexAI. MLOps pipeline also delivered.Synthetic Data Generator Using Gen AI\\nA sophisticated algorithm capable of generating photorealistic images that\\nrepresent the intricacies of urban driving scenes in India, using the stable\\ndiffuser model and prompt engineeringhttps://github.com/diksha-ashkid/Hacktonauts-Synthetic-AI-Generated-\\nDataset-AlgorithmPROJECTS\\nDecentralization and Virtualization of Clinical trials\\nIdentification of human diseases using ensemble learning\\ntechniques and OpenCV.\\nSociological Transformations of Robotics\\nSociological and societal impact of robotics throughout the\\ndecades.\\nMonitoring and Propagation Alert Information in the\\nCloud\\nPaper on alerts in the case of natural disasters near cloud\\nstorage serversWinner of AWS GenAI Hackathon 2024.\\nWinner of [-1] The Ultimate GenAI Challenge\\nOctober 2023 by Minus Zrero\\nGoogle-Solving for India Regional level\\nqualifiers and college level winners.\\nWinner at Tech Tonic Hackathon organized\\nby Futurense Tech, May 2023\\n1st Runner Up at Quest Global Ingenium 2023\\na National Level Hackathon among 1800+\\nteams.\\nWinner of Student Academic Success\\nPrediction Hackathon by MachineHack\\nNovember 2022 \\nWinner at CentuRITon National Level\\nHackathon November 2022 \\n3AI Pinnacle Award 2022 in the “AI & Analytics\\nStudent of the Year” category 2022\\n Best paper award at Jnana Chilume National\\nConference,2020\\nFinalists at Unlock 2022 Hack Series October\\n2022\\nCERTIFICATIONS\\nGoogle certified Associate Machine Learning\\nEngineer\\nStarting with Deep Learning, NVIDIA\\nIntroduction to Generative AI-Google Cloud\\nand Coursera\\n Google Cloud Career Practitioner\\nCertification, Google\\nJava 8 Essentials Training, Linkedin\\n4.0 Tech 1010 Certificate, iB HubsData Analytics Virtual Internship \\nKPMG, AU                                                 Jan 2023-Feb 2022\\nAnalysis, drawing insights and visualization of real-time customer datasets.\\nDrawing solutions for better development using current data\\nData Science and Business Analytics Intern\\nThe Sparks Foundation                              April 2022- May 2022\\nImplementing Business Analytics using Data Science and Machine learning\\nmodels with various case studies')]"
      ]
     },
     "execution_count": 14,
     "metadata": {},
     "output_type": "execute_result"
    }
   ],
   "source": [
    "doc_splits"
   ]
  },
  {
   "cell_type": "code",
   "execution_count": 15,
   "metadata": {},
   "outputs": [],
   "source": [
    "db = lancedb.connect(\"/tmp/lancedb\")\n",
    "table = db.create_table(\n",
    "    \"food_table\",\n",
    "    data=[{\"vector\": model.embed_query(\"Hello World\"), \"text\": \"Hello World\"}],\n",
    "    mode=\"overwrite\",\n",
    ")\n",
    "\n",
    "vectorstore = LanceDB.from_documents(\n",
    "    documents=doc_splits,\n",
    "    embedding=model,\n",
    "    connection=table,\n",
    ")\n",
    "retriever = vectorstore.as_retriever()"
   ]
  },
  {
   "cell_type": "code",
   "execution_count": 19,
   "metadata": {},
   "outputs": [],
   "source": [
    "docs=retriever.invoke(\"what skills are good?\")"
   ]
  },
  {
   "cell_type": "code",
   "execution_count": 20,
   "metadata": {},
   "outputs": [
    {
     "data": {
      "text/plain": [
       "list"
      ]
     },
     "execution_count": 20,
     "metadata": {},
     "output_type": "execute_result"
    }
   ],
   "source": [
    "type(docs)"
   ]
  },
  {
   "cell_type": "code",
   "execution_count": 25,
   "metadata": {},
   "outputs": [],
   "source": [
    "text = [d.page_content for d in docs]"
   ]
  },
  {
   "cell_type": "code",
   "execution_count": 26,
   "metadata": {},
   "outputs": [
    {
     "data": {
      "text/plain": [
       "[\"Prompt Engineering for LLMs\\nGenerative AI Solutions (GPT, Claude,\\nStable Diffusion, GANs, Langchain)\\nAWS and GCP cloud services(Bedrock,\\nSagemaker, Amazon Titan)\\nMLOps and DevOps (AWS & GCP)\\nDeep Learning (Tensorflow, Keras)\\nArtificial Intelligence and Machine\\nLearning\\nComputer Vision (Pytorch)\\nCognitive Learning (NLP)\\nData Analytics and Visualization\\n(PowerBI , Tableau)\\nDatabase Management\\nFront-end Development\\nPython (Django)TECH SKILLSEDUCATION\\n Jain (Deemed-to-be) University, Bangalore\\n2020-2024\\nSOFT SKILLS\\nProblem-Solving\\nCritical Thinking\\nPublic Speaking\\nTeam Management\\nConflict Resolution\\nCommunication\\nProfessional presentation\\nHackathon managementBachelor of Technology in Computer Science and Engineering \\nspecializing in Artificial Intelligence and Machine Learning\\nSGPA: 9.82/10\\nEXPERIENCESri Chaitanya Techno School, Bangalore\\nPhysics, Chemistry, Math, Biology11 th-12th - CBSE\\n2020\\nPercentage: 86.4%\\nBGS Public School, Bangalore\\n  10th - CBSE\\n  2018\\nPercentage: 95.3%\\nMachine Learning and NLP Intern\\nAnalyser Studios                                       April 2023-July 2023\\nDesigning, building and configuring various ML models to meet client\\nmodels and time to time upgradation of target product.Bangalore, Indiahttps://github.com/diksha-ashkidAs an engineer I believe in contributing smart solutions to the\\nindustry. My primary objectives are to develop intelligent\\nsystems which can help humanity and society benefit from their\\nspeed and efficiency. \\nDIKSHA CHAKRAVARTY\\nAI&ML ENGINEER\\n+91 9900474009dc.dikshachakravarty@gmail.comPROFILE\\nhttps://www.linkedin.com/in/diksha-\\nchakravarty-826160206/\\nData Science Intern\\nWise Analytica, London                 August 2023-September 2023\\nWorked  with real time customer data, Draw insights and building NLP models\\nfor customer data analysis and predictions over social media profiles.Artificial Intelligence and Machine Learning Intern\\nPeak Health Technologies Pvt Ltd          August 2023-Nov 2023       \\nWorking on prompt tuning and LLM's for product diversification. LLM fine-\\ntuning as well as full stack development using React, Django and MongoDB.Machine Learning Engineer\\nAnkercloud Technologies                      January 2024-Current        \\nWorked on prompt engineering and  LLM fine tuning and pretraining. Handled\\nprojects on Google Cloud Platform as well as Amazon(Sagemaker).\",\n",
       " \"Prompt Engineering for LLMs\\nGenerative AI Solutions (GPT, Claude,\\nStable Diffusion, GANs, Langchain)\\nAWS and GCP cloud services(Bedrock,\\nSagemaker, Amazon Titan)\\nMLOps and DevOps (AWS & GCP)\\nDeep Learning (Tensorflow, Keras)\\nArtificial Intelligence and Machine\\nLearning\\nComputer Vision (Pytorch)\\nCognitive Learning (NLP)\\nData Analytics and Visualization\\n(PowerBI , Tableau)\\nDatabase Management\\nFront-end Development\\nPython (Django)TECH SKILLSEDUCATION\\n Jain (Deemed-to-be) University, Bangalore\\n2020-2024\\nSOFT SKILLS\\nProblem-Solving\\nCritical Thinking\\nPublic Speaking\\nTeam Management\\nConflict Resolution\\nCommunication\\nProfessional presentation\\nHackathon managementBachelor of Technology in Computer Science and Engineering \\nspecializing in Artificial Intelligence and Machine Learning\\nSGPA: 9.82/10\\nEXPERIENCESri Chaitanya Techno School, Bangalore\\nPhysics, Chemistry, Math, Biology11 th-12th - CBSE\\n2020\\nPercentage: 86.4%\\nBGS Public School, Bangalore\\n  10th - CBSE\\n  2018\\nPercentage: 95.3%\\nMachine Learning and NLP Intern\\nAnalyser Studios                                       April 2023-July 2023\\nDesigning, building and configuring various ML models to meet client\\nmodels and time to time upgradation of target product.Bangalore, Indiahttps://github.com/diksha-ashkidAs an engineer I believe in contributing smart solutions to the\\nindustry. My primary objectives are to develop intelligent\\nsystems which can help humanity and society benefit from their\\nspeed and efficiency. \\nDIKSHA CHAKRAVARTY\\nAI&ML ENGINEER\\n+91 9900474009dc.dikshachakravarty@gmail.comPROFILE\\nhttps://www.linkedin.com/in/diksha-\\nchakravarty-826160206/\\nData Science Intern\\nWise Analytica, London                 August 2023-September 2023\\nWorked  with real time customer data, Draw insights and building NLP models\\nfor customer data analysis and predictions over social media profiles.Artificial Intelligence and Machine Learning Intern\\nPeak Health Technologies Pvt Ltd          August 2023-Nov 2023       \\nWorking on prompt tuning and LLM's for product diversification. LLM fine-\\ntuning as well as full stack development using React, Django and MongoDB.Machine Learning Engineer\\nAnkercloud Technologies                      January 2024-Current        \\nWorked on prompt engineering and  LLM fine tuning and pretraining. Handled\\nprojects on Google Cloud Platform as well as Amazon(Sagemaker).\",\n",
       " 'AWARDS &\\nACHIEVEMENTS\\nTECHNICAL PAPERSLensFleur\\nA multilingual platform for all farmers and botanical enthusiasts. Detection of\\ndiseases in plants using OpenCV and Deep Learning.https://github.com/diksha-ashkid/Centuriton-Hackathon_Flora.AI\\nSpyTrash\\nClassification and Management of waste to help municipalities and the\\ncommunity using Computer Vision and CNNshttps://github.com/diksha-ashkid/DC-KASH-REVAHACK\\nHealthSync\\nA digital health tracker application that uses a backend recommender\\nsystem using ML and a OCR detection to make the process of doctor\\nappointments and clinic visiting easier.https://github.com/diksha-ashkid/HealthSync\\nCustom Image generator using Stable Diffusion\\nDeveloping a customised stable diffusion model using the LoRA training\\ntechnique to create particular products that are derived from current client\\nor use case. Deploying it on AWS services and GCP. Through Sagemaker,\\nBedrock and latter with VertexAI. MLOps pipeline also delivered.Synthetic Data Generator Using Gen AI\\nA sophisticated algorithm capable of generating photorealistic images that\\nrepresent the intricacies of urban driving scenes in India, using the stable\\ndiffuser model and prompt engineeringhttps://github.com/diksha-ashkid/Hacktonauts-Synthetic-AI-Generated-\\nDataset-AlgorithmPROJECTS\\nDecentralization and Virtualization of Clinical trials\\nIdentification of human diseases using ensemble learning\\ntechniques and OpenCV.\\nSociological Transformations of Robotics\\nSociological and societal impact of robotics throughout the\\ndecades.\\nMonitoring and Propagation Alert Information in the\\nCloud\\nPaper on alerts in the case of natural disasters near cloud\\nstorage serversWinner of AWS GenAI Hackathon 2024.\\nWinner of [-1] The Ultimate GenAI Challenge\\nOctober 2023 by Minus Zrero\\nGoogle-Solving for India Regional level\\nqualifiers and college level winners.\\nWinner at Tech Tonic Hackathon organized\\nby Futurense Tech, May 2023\\n1st Runner Up at Quest Global Ingenium 2023\\na National Level Hackathon among 1800+\\nteams.\\nWinner of Student Academic Success\\nPrediction Hackathon by MachineHack\\nNovember 2022 \\nWinner at CentuRITon National Level\\nHackathon November 2022 \\n3AI Pinnacle Award 2022 in the “AI & Analytics\\nStudent of the Year” category 2022\\n Best paper award at Jnana Chilume National\\nConference,2020\\nFinalists at Unlock 2022 Hack Series October\\n2022\\nCERTIFICATIONS\\nGoogle certified Associate Machine Learning\\nEngineer\\nStarting with Deep Learning, NVIDIA\\nIntroduction to Generative AI-Google Cloud\\nand Coursera\\n Google Cloud Career Practitioner\\nCertification, Google\\nJava 8 Essentials Training, Linkedin\\n4.0 Tech 1010 Certificate, iB HubsData Analytics Virtual Internship \\nKPMG, AU                                                 Jan 2023-Feb 2022\\nAnalysis, drawing insights and visualization of real-time customer datasets.\\nDrawing solutions for better development using current data\\nData Science and Business Analytics Intern\\nThe Sparks Foundation                              April 2022- May 2022\\nImplementing Business Analytics using Data Science and Machine learning\\nmodels with various case studies',\n",
       " 'AWARDS &\\nACHIEVEMENTS\\nTECHNICAL PAPERSLensFleur\\nA multilingual platform for all farmers and botanical enthusiasts. Detection of\\ndiseases in plants using OpenCV and Deep Learning.https://github.com/diksha-ashkid/Centuriton-Hackathon_Flora.AI\\nSpyTrash\\nClassification and Management of waste to help municipalities and the\\ncommunity using Computer Vision and CNNshttps://github.com/diksha-ashkid/DC-KASH-REVAHACK\\nHealthSync\\nA digital health tracker application that uses a backend recommender\\nsystem using ML and a OCR detection to make the process of doctor\\nappointments and clinic visiting easier.https://github.com/diksha-ashkid/HealthSync\\nCustom Image generator using Stable Diffusion\\nDeveloping a customised stable diffusion model using the LoRA training\\ntechnique to create particular products that are derived from current client\\nor use case. Deploying it on AWS services and GCP. Through Sagemaker,\\nBedrock and latter with VertexAI. MLOps pipeline also delivered.Synthetic Data Generator Using Gen AI\\nA sophisticated algorithm capable of generating photorealistic images that\\nrepresent the intricacies of urban driving scenes in India, using the stable\\ndiffuser model and prompt engineeringhttps://github.com/diksha-ashkid/Hacktonauts-Synthetic-AI-Generated-\\nDataset-AlgorithmPROJECTS\\nDecentralization and Virtualization of Clinical trials\\nIdentification of human diseases using ensemble learning\\ntechniques and OpenCV.\\nSociological Transformations of Robotics\\nSociological and societal impact of robotics throughout the\\ndecades.\\nMonitoring and Propagation Alert Information in the\\nCloud\\nPaper on alerts in the case of natural disasters near cloud\\nstorage serversWinner of AWS GenAI Hackathon 2024.\\nWinner of [-1] The Ultimate GenAI Challenge\\nOctober 2023 by Minus Zrero\\nGoogle-Solving for India Regional level\\nqualifiers and college level winners.\\nWinner at Tech Tonic Hackathon organized\\nby Futurense Tech, May 2023\\n1st Runner Up at Quest Global Ingenium 2023\\na National Level Hackathon among 1800+\\nteams.\\nWinner of Student Academic Success\\nPrediction Hackathon by MachineHack\\nNovember 2022 \\nWinner at CentuRITon National Level\\nHackathon November 2022 \\n3AI Pinnacle Award 2022 in the “AI & Analytics\\nStudent of the Year” category 2022\\n Best paper award at Jnana Chilume National\\nConference,2020\\nFinalists at Unlock 2022 Hack Series October\\n2022\\nCERTIFICATIONS\\nGoogle certified Associate Machine Learning\\nEngineer\\nStarting with Deep Learning, NVIDIA\\nIntroduction to Generative AI-Google Cloud\\nand Coursera\\n Google Cloud Career Practitioner\\nCertification, Google\\nJava 8 Essentials Training, Linkedin\\n4.0 Tech 1010 Certificate, iB HubsData Analytics Virtual Internship \\nKPMG, AU                                                 Jan 2023-Feb 2022\\nAnalysis, drawing insights and visualization of real-time customer datasets.\\nDrawing solutions for better development using current data\\nData Science and Business Analytics Intern\\nThe Sparks Foundation                              April 2022- May 2022\\nImplementing Business Analytics using Data Science and Machine learning\\nmodels with various case studies']"
      ]
     },
     "execution_count": 26,
     "metadata": {},
     "output_type": "execute_result"
    }
   ],
   "source": [
    "text"
   ]
  },
  {
   "cell_type": "code",
   "execution_count": null,
   "metadata": {},
   "outputs": [],
   "source": []
  },
  {
   "cell_type": "code",
   "execution_count": null,
   "metadata": {},
   "outputs": [],
   "source": []
  }
 ],
 "metadata": {
  "kernelspec": {
   "display_name": "Python 3",
   "language": "python",
   "name": "python3"
  },
  "language_info": {
   "codemirror_mode": {
    "name": "ipython",
    "version": 3
   },
   "file_extension": ".py",
   "mimetype": "text/x-python",
   "name": "python",
   "nbconvert_exporter": "python",
   "pygments_lexer": "ipython3",
   "version": "3.11.9"
  }
 },
 "nbformat": 4,
 "nbformat_minor": 2
}
