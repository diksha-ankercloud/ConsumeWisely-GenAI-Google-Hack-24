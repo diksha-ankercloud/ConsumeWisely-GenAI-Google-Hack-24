{
 "cells": [
  {
   "cell_type": "code",
   "execution_count": 24,
   "metadata": {},
   "outputs": [
    {
     "name": "stderr",
     "output_type": "stream",
     "text": [
      "\n",
      "[notice] A new release of pip is available: 24.0 -> 24.2\n",
      "[notice] To update, run: python.exe -m pip install --upgrade pip\n"
     ]
    }
   ],
   "source": [
    "!pip install --upgrade --user --quiet google-cloud-aiplatform"
   ]
  },
  {
   "cell_type": "code",
   "execution_count": 44,
   "metadata": {},
   "outputs": [],
   "source": [
    "import getpass\n",
    "import os\n",
    "from dotenv import load_dotenv\n",
    "import base64\n",
    "from langchain_core.prompts import HumanMessagePromptTemplate, ChatPromptTemplate\n",
    "from langchain_core.messages import SystemMessage, HumanMessage"
   ]
  },
  {
   "cell_type": "code",
   "execution_count": 45,
   "metadata": {},
   "outputs": [],
   "source": [
    "load_dotenv()\n",
    "os.environ[\"GOOGLE_API_KEY\"] = os.getenv(\"GOOGLE_API_KEY\")\n",
    "os.environ['GOOGLE_APPLICATION_CREDENTIALS'] = \"search_keys.json\"\n",
    "\n"
   ]
  },
  {
   "cell_type": "code",
   "execution_count": 46,
   "metadata": {},
   "outputs": [],
   "source": [
    "PROJECT_ID = \"\"  # @param {type:\"string\"}\n",
    "REGION = \"\"  # @param {type: \"string\"}"
   ]
  },
  {
   "cell_type": "code",
   "execution_count": 47,
   "metadata": {},
   "outputs": [],
   "source": [
    "import vertexai\n",
    "vertexai.init(project=PROJECT_ID, location=REGION)"
   ]
  },
  {
   "cell_type": "code",
   "execution_count": 48,
   "metadata": {},
   "outputs": [],
   "source": [
    "from IPython.display import Markdown, display\n",
    "from vertexai.generative_models import (\n",
    "    GenerationResponse,\n",
    "    GenerativeModel,\n",
    "    Tool,\n",
    "    grounding,\n",
    ")\n",
    "from vertexai.preview.generative_models import grounding as preview_grounding"
   ]
  },
  {
   "cell_type": "code",
   "execution_count": 49,
   "metadata": {},
   "outputs": [],
   "source": [
    "model = GenerativeModel(\"gemini-1.5-flash-001\")"
   ]
  },
  {
   "cell_type": "code",
   "execution_count": 50,
   "metadata": {},
   "outputs": [],
   "source": [
    "#model.generate_content(PROMPT)"
   ]
  },
  {
   "cell_type": "code",
   "execution_count": 56,
   "metadata": {},
   "outputs": [
    {
     "name": "stdout",
     "output_type": "stream",
     "text": [
      "Cheetos Cheez Puffs are made with the following ingredients:\n",
      "\n",
      "* Enriched cornmeal (cornmeal, ferrous sulfate, niacin, thiamin mononitrate, riboflavin, folic acid)\n",
      "* Vegetable oil (corn, canola, and/or sunflower oil)\n",
      "* Cheese seasoning (whey, cheddar cheese [milk, cheese cultures, salt, enzymes], canola oil, maltodextrin [made from corn], natural and artificial flavors, salt, whey protein concentrate, monosodium glutamate, lactic acid, citric acid, artificial color [Yellow 6])\n",
      "* Salt\n",
      "\n",
      "Cheetos Cheez Puffs are also:\n",
      "\n",
      "* Gluten-free\n",
      "* Contain milk and its derivatives\n",
      "* Free from cereals and their derivatives \n",
      "\n",
      "\n"
     ]
    }
   ],
   "source": [
    "\n",
    "PROMPT = \"what are the ingredients or majo composition of Cheetos Cheez Puffs, 3X28 g Multipack\"\n",
    "tool = Tool.from_google_search_retrieval(grounding.GoogleSearchRetrieval())\n",
    "response = model.generate_content(PROMPT, tools=[tool])\n",
    "print(response.candidates[0].content.parts[0].text)\n",
    "\n",
    "\n",
    "\n",
    "     "
   ]
  },
  {
   "cell_type": "code",
   "execution_count": 57,
   "metadata": {},
   "outputs": [],
   "source": [
    "tool = Tool.from_google_search_retrieval(grounding.GoogleSearchRetrieval())\n",
    "\n",
    "     "
   ]
  },
  {
   "cell_type": "code",
   "execution_count": 58,
   "metadata": {},
   "outputs": [],
   "source": [
    "response = model.generate_content(PROMPT, tools=[tool])\n",
    "\n"
   ]
  },
  {
   "cell_type": "code",
   "execution_count": 59,
   "metadata": {},
   "outputs": [
    {
     "name": "stdout",
     "output_type": "stream",
     "text": [
      "Cheetos Cheez Puffs, 3X28 g Multipack, are made from the following ingredients:\n",
      "\n",
      "* **Enriched Corn Meal:** This is the base of the puff, made from cornmeal fortified with vitamins and minerals.\n",
      "* **Vegetable Oil:** Used for frying the puffs, it can be a blend of corn, canola, and/or sunflower oil.\n",
      "* **Cheese Seasoning:** This is the key ingredient that gives Cheetos their cheesy flavor. It consists of a blend of:\n",
      "    * **Whey:** A milk protein.\n",
      "    * **Cheddar Cheese:** Made from milk, cheese cultures, salt, and enzymes.\n",
      "    * **Canola Oil:** A type of vegetable oil.\n",
      "    * **Maltodextrin:** A carbohydrate made from corn.\n",
      "    * **Natural and Artificial Flavors:**  These enhance the cheese flavor.\n",
      "    * **Salt:** For seasoning.\n",
      "    * **Whey Protein Concentrate:**  Another milk protein.\n",
      "    * **Monosodium Glutamate (MSG):** A flavor enhancer.\n",
      "    * **Lactic Acid:** Used for flavor and to regulate acidity.\n",
      "    * **Citric Acid:** Another acidulant.\n",
      "    * **Artificial Color (Yellow 6):** To give the puffs their iconic orange color.\n",
      "\n",
      "**Important Notes:**\n",
      "\n",
      "* **Allergens:** Cheetos Cheez Puffs contain milk and its derivatives.\n",
      "* **Gluten Free:** The puffs are gluten-free.\n",
      "* **Serving Size:** A serving size is about 13 pieces (28g). \n",
      "* **Nutritional Information:** You can find the nutritional information per serving on the product packaging.\n",
      "\n",
      "Please remember that this is a general description, and the exact ingredients may vary slightly depending on the specific packaging or country of origin. \n",
      "\n"
     ]
    }
   ],
   "source": [
    "print(response.candidates[0].content.parts[0].text)"
   ]
  },
  {
   "cell_type": "code",
   "execution_count": null,
   "metadata": {},
   "outputs": [],
   "source": []
  },
  {
   "cell_type": "code",
   "execution_count": null,
   "metadata": {},
   "outputs": [],
   "source": []
  }
 ],
 "metadata": {
  "kernelspec": {
   "display_name": "Python 3",
   "language": "python",
   "name": "python3"
  },
  "language_info": {
   "codemirror_mode": {
    "name": "ipython",
    "version": 3
   },
   "file_extension": ".py",
   "mimetype": "text/x-python",
   "name": "python",
   "nbconvert_exporter": "python",
   "pygments_lexer": "ipython3",
   "version": "3.11.9"
  }
 },
 "nbformat": 4,
 "nbformat_minor": 2
}
