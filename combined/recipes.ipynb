{
 "cells": [
  {
   "cell_type": "code",
   "execution_count": 1,
   "metadata": {},
   "outputs": [
    {
     "name": "stderr",
     "output_type": "stream",
     "text": [
      "\n",
      "[notice] A new release of pip is available: 24.0 -> 24.2\n",
      "[notice] To update, run: python.exe -m pip install --upgrade pip\n",
      "\n",
      "[notice] A new release of pip is available: 24.0 -> 24.2\n",
      "[notice] To update, run: python.exe -m pip install --upgrade pip\n"
     ]
    }
   ],
   "source": [
    "!pip install --upgrade --user --quiet google-cloud-aiplatform\n",
    "!pip install -qU langchain-google-genai"
   ]
  },
  {
   "cell_type": "code",
   "execution_count": 7,
   "metadata": {},
   "outputs": [],
   "source": [
    "import getpass\n",
    "import os\n",
    "from dotenv import load_dotenv\n",
    "import base64\n",
    "from langchain_core.prompts import HumanMessagePromptTemplate, ChatPromptTemplate\n",
    "from langchain_core.messages import SystemMessage, HumanMessage\n",
    "from IPython.display import Markdown, display\n",
    "from langchain_google_genai import ChatGoogleGenerativeAI\n",
    "from vertexai.preview.generative_models import grounding as preview_grounding\n",
    "from vertexai.generative_models import (\n",
    "    GenerationResponse,\n",
    "    GenerativeModel,\n",
    "    Tool,\n",
    "    grounding,\n",
    ")\n"
   ]
  },
  {
   "cell_type": "code",
   "execution_count": 10,
   "metadata": {},
   "outputs": [],
   "source": [
    "load_dotenv()\n",
    "#os.environ[\"GOOGLE_API_KEY\"] = os.getenv(\"GOOGLE_API_KEY\")\n",
    "os.environ['GOOGLE_APPLICATION_CREDENTIALS'] = r\"C:\\Users\\DELL\\Downloads\\13-Google-GenAI-Hack-24\\GenAI-Google--Hack-24\\vision-forge-414908-d792f2fc2ff6.json\"\n"
   ]
  },
  {
   "cell_type": "code",
   "execution_count": 4,
   "metadata": {},
   "outputs": [],
   "source": [
    "PROJECT_ID = \"vision-forge-414908\"  # @param {type:\"string\"}\n",
    "REGION = \"us-central1\"  # @param {type: \"string\"}\n",
    "import vertexai\n",
    "vertexai.init(project=PROJECT_ID, location=REGION)"
   ]
  },
  {
   "cell_type": "code",
   "execution_count": 5,
   "metadata": {},
   "outputs": [],
   "source": [
    "import vertexai\n",
    "vertexai.init(project=PROJECT_ID, location=REGION)"
   ]
  },
  {
   "cell_type": "code",
   "execution_count": 8,
   "metadata": {},
   "outputs": [],
   "source": [
    "model_ground = GenerativeModel(\"gemini-1.5-flash-001\")"
   ]
  },
  {
   "cell_type": "code",
   "execution_count": 14,
   "metadata": {},
   "outputs": [],
   "source": [
    "product = \"parle g biscuit\" \n",
    "PROMPT = f\"give me the description, ingredietns and flavor profile or taste of this {product}\"\n",
    "tool = Tool.from_google_search_retrieval(grounding.GoogleSearchRetrieval())\n",
    "response = model_ground.generate_content(PROMPT, tools=[tool])\n",
    "#print(response.candidates[0].content.parts[0].text)\n",
    "food_info = response.candidates[0].content.parts[0].text"
   ]
  },
  {
   "cell_type": "code",
   "execution_count": 15,
   "metadata": {},
   "outputs": [],
   "source": [
    "from langchain_google_genai import ChatGoogleGenerativeAI\n",
    "\n",
    "model = ChatGoogleGenerativeAI(\n",
    "    model=\"gemini-1.5-flash-001\",\n",
    "    temperature=0,\n",
    "    max_tokens=None,\n",
    "    timeout=None,\n",
    "    max_retries=2,\n",
    "    \n",
    ")"
   ]
  },
  {
   "cell_type": "code",
   "execution_count": 16,
   "metadata": {},
   "outputs": [],
   "source": [
    "restrictions = \"vegan\""
   ]
  },
  {
   "cell_type": "code",
   "execution_count": 51,
   "metadata": {},
   "outputs": [],
   "source": [
    "chat_prompt = ChatPromptTemplate.from_messages(\n",
    "    messages=[\n",
    "        SystemMessage(\n",
    "            content='''You are a good great chef and a great cook that can give qyuick and esy recioes followinf sepecific diets, imgredietns, taste of food as well as flvor profiles. \n",
    "            You will be given this info and you have to give 2 dishes that mathc the input and give simple recipes that can be made using that product or something similar to that product. If some food dietary\n",
    "            restrictions are there you are supposed to give recies that can have alternatives from tehe original oproduct but can give similar taste.\n",
    "            '''),\n",
    "        HumanMessagePromptTemplate.from_template(\n",
    "            template= \n",
    "                '''The info is the following\n",
    "                the product name of the major foods in the recipe: {product}. and the major info rgaring the product such as decription, raste and ingredients {food_info}\n",
    "                Limit the recipes to these dietary restrictions: {restrictions}\n",
    "                Give only these following info regarding 2 recipes following the above in the following format. The answers for each of the following should be in (** **):\n",
    "                (#Recipe Name#): short, fun catchy name for recipe\n",
    "                (#Description#): description of the recipe in not more than 1 line. This should include key worlds like keto, vegan, jain, choletrol less, sugar free, high protein etc.\n",
    "                no need of any othe info except these 2 above.\n",
    "                Example ouput:\n",
    "                (#Recipe 1 Name#): (***  name ****)\n",
    "                (#Description#):  (***  description ****)\n",
    "                (#Recipe 2 Name#): (***  name ****)\n",
    "                (#Description#):  (***  description ****)\n",
    "                make sure to follow the (# #) and ( *** ***) in the output\n",
    "\n",
    "                '''\n",
    "\n",
    "            \n",
    "           \n",
    "            \n",
    "            ),\n",
    "       \n",
    "    ]\n",
    ")"
   ]
  },
  {
   "cell_type": "code",
   "execution_count": 52,
   "metadata": {},
   "outputs": [],
   "source": [
    "chain = chat_prompt | model"
   ]
  },
  {
   "cell_type": "code",
   "execution_count": 53,
   "metadata": {},
   "outputs": [],
   "source": [
    "response_from_model = chain.invoke(\n",
    "    {\n",
    "        \n",
    "        \"product\": product,\n",
    "        \"food_info\": food_info,\n",
    "        \"restrictions\":restrictions\n",
    "        \n",
    "        \n",
    "        \n",
    "\n",
    "    }\n",
    ")"
   ]
  },
  {
   "cell_type": "code",
   "execution_count": 55,
   "metadata": {},
   "outputs": [],
   "source": [
    "recipe_2 = response_from_model.content\n"
   ]
  },
  {
   "cell_type": "code",
   "execution_count": 58,
   "metadata": {},
   "outputs": [
    {
     "name": "stdout",
     "output_type": "stream",
     "text": [
      "Here are two vegan recipes using Parle-G biscuits:\n",
      "\n",
      "(#Recipe 1 Name#): (**Parle-G Crumble Delight**)\n",
      "(#Description#): (**A simple and delicious vegan crumble made with Parle-G biscuits, fruit, and a sweet and nutty crumble topping.**)\n",
      "\n",
      "(#Recipe 2 Name#): (**Parle-G Vegan \"Cheesecake\"**)\n",
      "(#Description#): (**A no-bake, vegan cheesecake made with Parle-G biscuits, cashews, and a creamy coconut milk filling.**) \n",
      "\n"
     ]
    }
   ],
   "source": [
    "print(recipe_2)"
   ]
  },
  {
   "cell_type": "code",
   "execution_count": 56,
   "metadata": {},
   "outputs": [],
   "source": [
    "import re"
   ]
  },
  {
   "cell_type": "code",
   "execution_count": 60,
   "metadata": {},
   "outputs": [
    {
     "name": "stdout",
     "output_type": "stream",
     "text": [
      "Recipe 1 Name: Parle-G Crumble Delight\n",
      "Description: A simple and delicious vegan crumble made with Parle-G biscuits, fruit, and a sweet and nutty crumble topping. | A no-bake, vegan cheesecake made with Parle-G biscuits, cashews, and a creamy coconut milk filling.\n",
      "Recipe 2 Name: Parle-G Vegan \"Cheesecake\"\n"
     ]
    }
   ],
   "source": [
    "pattern = r'\\(#([^#]+)#\\): \\(\\*\\*([^*]+)\\*\\*\\)'\n",
    "\n",
    "# Find all matches\n",
    "matches = re.findall(pattern, recipe_2)\n",
    "\n",
    "# Convert matches into a dictionary of key-value pairs\n",
    "result = {}\n",
    "for key, value in matches:\n",
    "    key = key.strip()\n",
    "    value = value.strip()\n",
    "    if key in result:\n",
    "        result[key] += f\" | {value}\"  # Append if key already exists\n",
    "    else:\n",
    "        result[key] = value\n",
    "\n",
    "# Output the result\n",
    "for key, value in result.items():\n",
    "    print(f'{key}: {value}')"
   ]
  },
  {
   "cell_type": "code",
   "execution_count": 61,
   "metadata": {},
   "outputs": [
    {
     "name": "stdout",
     "output_type": "stream",
     "text": [
      "Recipe 1 Name: Parle-G Crumble Delight\n",
      "Description: A simple and delicious vegan crumble made with Parle-G biscuits, fruit, and a sweet and nutty crumble topping.\n",
      "\n",
      "Recipe 2 Name: Parle-G Vegan \"Cheesecake\"\n",
      "Description: A no-bake, vegan cheesecake made with Parle-G biscuits, cashews, and a creamy coconut milk filling.\n",
      "\n"
     ]
    }
   ],
   "source": [
    "pattern = r'\\(#([^#]+)#\\): \\(\\*\\*([^*]+)\\*\\*\\)'\n",
    "\n",
    "# Find all matches\n",
    "matches = re.findall(pattern, recipe_2)\n",
    "\n",
    "# Output the result in alternating format\n",
    "for i in range(0, len(matches), 2):\n",
    "    # Print recipe name\n",
    "    recipe_name_key, recipe_name_value = matches[i]\n",
    "    print(f'{recipe_name_key}: {recipe_name_value}')\n",
    "    \n",
    "    # Print description\n",
    "    if i + 1 < len(matches):\n",
    "        description_key, description_value = matches[i+1]\n",
    "        print(f'{description_key}: {description_value}\\n')"
   ]
  },
  {
   "cell_type": "code",
   "execution_count": null,
   "metadata": {},
   "outputs": [],
   "source": []
  }
 ],
 "metadata": {
  "kernelspec": {
   "display_name": "Python 3",
   "language": "python",
   "name": "python3"
  },
  "language_info": {
   "codemirror_mode": {
    "name": "ipython",
    "version": 3
   },
   "file_extension": ".py",
   "mimetype": "text/x-python",
   "name": "python",
   "nbconvert_exporter": "python",
   "pygments_lexer": "ipython3",
   "version": "3.11.9"
  }
 },
 "nbformat": 4,
 "nbformat_minor": 2
}
