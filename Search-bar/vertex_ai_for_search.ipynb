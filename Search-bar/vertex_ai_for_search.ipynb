{
 "cells": [
  {
   "cell_type": "code",
   "execution_count": 10,
   "metadata": {},
   "outputs": [
    {
     "name": "stderr",
     "output_type": "stream",
     "text": [
      "\n",
      "[notice] A new release of pip is available: 24.0 -> 24.2\n",
      "[notice] To update, run: python.exe -m pip install --upgrade pip\n",
      "\n",
      "[notice] A new release of pip is available: 24.0 -> 24.2\n",
      "[notice] To update, run: python.exe -m pip install --upgrade pip\n",
      "\n",
      "[notice] A new release of pip is available: 24.0 -> 24.2\n",
      "[notice] To update, run: python.exe -m pip install --upgrade pip\n"
     ]
    }
   ],
   "source": [
    "!pip install --upgrade --user --quiet google-cloud-aiplatform\n",
    "!pip install -qU langchain-google-vertexai\n"
   ]
  },
  {
   "cell_type": "code",
   "execution_count": 28,
   "metadata": {},
   "outputs": [
    {
     "data": {
      "text/plain": [
       "True"
      ]
     },
     "execution_count": 28,
     "metadata": {},
     "output_type": "execute_result"
    }
   ],
   "source": [
    "import getpass\n",
    "import os\n",
    "from dotenv import load_dotenv\n",
    "import base64\n",
    "from langchain_core.prompts import HumanMessagePromptTemplate, ChatPromptTemplate\n",
    "from langchain_core.messages import SystemMessage, HumanMessage\n",
    "import re\n",
    "import getpass\n",
    "import os\n",
    "from dotenv import load_dotenv\n",
    "load_dotenv()"
   ]
  },
  {
   "cell_type": "code",
   "execution_count": 29,
   "metadata": {},
   "outputs": [],
   "source": [
    "load_dotenv()\n",
    "#os.environ[\"GOOGLE_API_KEY\"] = os.getenv(\"GOOGLE_API_KEY\")\n",
    "os.environ['GOOGLE_APPLICATION_CREDENTIALS'] = \"\"\n",
    "PROJECT_ID = \" \"  # @param {type:\"string\"}\n",
    "REGION = \" \"  # @param {type: \"string\"}\n",
    "import getpass\n",
    "import os\n",
    "\n",
    "\n"
   ]
  },
  {
   "cell_type": "code",
   "execution_count": null,
   "metadata": {},
   "outputs": [],
   "source": [
    "import vertexai\n",
    "vertexai.init(project=PROJECT_ID, location=REGION)"
   ]
  },
  {
   "cell_type": "code",
   "execution_count": 44,
   "metadata": {},
   "outputs": [],
   "source": [
    "from IPython.display import Markdown, display\n",
    "from vertexai.generative_models import (\n",
    "    GenerationResponse,\n",
    "    GenerativeModel,\n",
    "    Tool,\n",
    "    grounding,\n",
    ")\n",
    "from vertexai.preview.generative_models import grounding as preview_grounding\n"
   ]
  },
  {
   "cell_type": "code",
   "execution_count": 45,
   "metadata": {},
   "outputs": [],
   "source": [
    "model = GenerativeModel(\"gemini-1.5-flash-001\")"
   ]
  },
  {
   "cell_type": "code",
   "execution_count": 46,
   "metadata": {},
   "outputs": [
    {
     "name": "stdout",
     "output_type": "stream",
     "text": [
      "The main ingredients of Cheetos Cheez Puffs are:\n",
      "\n",
      "* **Enriched Cornmeal:**  This is the base of the puff, providing its texture and structure. The enrichment refers to added vitamins and minerals (Niacin, Iron, Thiamine Mononitrate, Riboflavin, Folic Acid). \n",
      "* **Vegetable Oil:** Used for frying the puffs, giving them their crispy texture. The specific oil used can vary (corn, canola, sunflower) depending on the manufacturer. \n",
      "* **Cheese Seasoning:** This is the key to the cheesy flavor. It typically includes:\n",
      "    * **Whey:** A milk protein that contributes to the cheesy flavor and texture.\n",
      "    * **Cheddar Cheese:** Provides the characteristic cheddar flavor.\n",
      "    * **Canola Oil:** Adds to the seasoning's texture and helps it adhere to the puffs.\n",
      "    * **Maltodextrin:** A type of sugar derived from cornstarch, used as a thickener and to help the seasoning stick. \n",
      "    * **Salt:**  Used to enhance flavor.\n",
      "    * **Whey Protein Concentrate:**  Further contributes to the cheesy flavor and texture.\n",
      "    * **Monosodium Glutamate (MSG):** A flavor enhancer.\n",
      "    * **Natural and Artificial Flavors:** Added to enhance the cheese flavor.\n",
      "    * **Lactic Acid & Citric Acid:**  These acids help to adjust the pH and enhance the cheesy flavor.\n",
      "    * **Artificial Color (Yellow 6):**  Gives the puffs their characteristic orange color. \n",
      "* **Salt:**  Used as a seasoning.\n",
      "\n",
      "Please note that the exact proportions and specific ingredients can vary slightly depending on the specific product size and manufacturing location. \n",
      "\n"
     ]
    }
   ],
   "source": [
    "product = \"Cheetos Cheez Puffs, 3X28 g Multipack\"\n",
    "PROMPT = \"what are the ingredients or majo composition of {product}\"\n",
    "tool = Tool.from_google_search_retrieval(grounding.GoogleSearchRetrieval())\n",
    "response = model.generate_content(PROMPT, tools=[tool])\n",
    "ingredients = response.candidates[0].content.parts[0].text\n",
    "\n",
    "\n",
    "\n",
    "     "
   ]
  },
  {
   "cell_type": "code",
   "execution_count": 33,
   "metadata": {},
   "outputs": [],
   "source": [
    "import vertexai\n",
    "vertexai.init(project=PROJECT_ID, location=REGION)"
   ]
  },
  {
   "cell_type": "code",
   "execution_count": 34,
   "metadata": {},
   "outputs": [],
   "source": [
    "import vertexai\n",
    "vertexai.init(project=PROJECT_ID, location=REGION)\n",
    "from IPython.display import Markdown, display\n",
    "from vertexai.generative_models import (\n",
    "    GenerationResponse,\n",
    "    GenerativeModel,\n",
    "    Tool,\n",
    "    grounding,\n",
    ")\n",
    "from vertexai.preview.generative_models import grounding as preview_grounding\n",
    "model = GenerativeModel(\"gemini-1.5-flash-001\")\n",
    "prompt_2 = f\"The prodcut is {product} and the ingredients are {ingredients}, now do the following.Category 1: Can you give me a brief of taste on what the {product} is and  add that full info in(*** ***). Category 2: Also only list the nutritional (benefits/harms) if there are any. Category:3(only mention relevant category): look if the product is suitable for a vegan or keto or jain or all diets and flag only the nsame of that diet of any or multiple suitable in  (*** ***). Category 4(single word answer):If the {product} is organic or supports sustainablity or small businesses add that in (*** ***) . Category 5: ALso if there is any recent news regarding {product} flag it in less than 3 words in (*** ***). Give me the ingredietns of this {product} from the internet (*** ***)\"\n",
    "tool = Tool.from_google_search_retrieval(grounding.GoogleSearchRetrieval())\n",
    "response = model.generate_content(prompt_2, tools=[tool])\n",
    "print(response.candidates[0].content.parts[0].text)\n",
    "response_string = str(response)\n",
    "# Use regex to extract all text between *** ***\n",
    "matches = re.findall(r'\\(\\*\\*\\*(.*?)\\*\\*\\*\\)', response_string)\n",
    "# Print extracted text\n",
    "print(matches)\n",
    "\n",
    "     "
   ]
  },
  {
   "cell_type": "code",
   "execution_count": 35,
   "metadata": {},
   "outputs": [],
   "source": [
    "model = GenerativeModel(\"gemini-1.5-flash-001\")"
   ]
  },
  {
   "cell_type": "code",
   "execution_count": 36,
   "metadata": {},
   "outputs": [
    {
     "name": "stdout",
     "output_type": "stream",
     "text": [
      "Here is the information you requested about Oreos:\n",
      "\n",
      "* **Category 1: Taste (***The taste of Oreos is a classic combination of sweet and slightly bitter. The chocolate cookie is crisp and the creamy filling is smooth and sweet. It's often enjoyed with milk, but many also enjoy them on their own. ***)** \n",
      "\n",
      "* **Category 2: Nutritional benefits/harms (***Oreos are high in sugar, saturated fat, and calories. They are not considered a healthy food choice, but can be enjoyed in moderation. ***)** \n",
      "\n",
      "* **Category 3: Suitable Diets (***Vegan***)**\n",
      "\n",
      "* **Category 4: Organic/Sustainability (***No***)**\n",
      "\n",
      "* **Category 5: Recent News (***No news***)**\n",
      "\n",
      "* **Ingredients (***The ingredients in Oreos include sugar, unbleached enriched flour, palm and/or canola oil, cocoa, invert sugar, leavening agents, soy lecithin, chocolate, salt, artificial flavor, and soybean oil. The filling is made from powdered sugar, palm and/or canola oil, soy lecithin, and artificial flavor. ***)** \n",
      "\n"
     ]
    }
   ],
   "source": [
    "prompt_2 = f\"The prodcut is {product} and the ingredients are {ingredients}, now do the following.Category 1: Can you give me a brief of taste on what the {product} is and  add that full info in(*** ***). Category 2: Also only list the nutritional (benefits/harms) if there are any. Category:3(only mention relevant category): look if the product is suitable for a vegan or keto or jain or all diets and flag only the nsame of that diet of any or multiple suitable in  (*** ***). Category 4(single word answer):If the {product} is organic or supports sustainablity or small businesses add that in (*** ***) . Category 5: ALso if there is any recent news regarding {product} flag it in less than 3 words in (*** ***). Give me the ingredietns of this {product} from the internet (*** ***)\"\n",
    "tool = Tool.from_google_search_retrieval(grounding.GoogleSearchRetrieval())\n",
    "response = model.generate_content(prompt_2, tools=[tool])\n",
    "print(response.candidates[0].content.parts[0].text)\n",
    "\n",
    "\n",
    "\n",
    "\n",
    "\n",
    "\n",
    "response_string = str(response)\n",
    "\n",
    "     "
   ]
  },
  {
   "cell_type": "code",
   "execution_count": 37,
   "metadata": {},
   "outputs": [
    {
     "name": "stdout",
     "output_type": "stream",
     "text": [
      "[\"The taste of Oreos is a classic combination of sweet and slightly bitter. The chocolate cookie is crisp and the creamy filling is smooth and sweet. It\\\\'s often enjoyed with milk, but many also enjoy them on their own. \", 'Oreos are high in sugar, saturated fat, and calories. They are not considered a healthy food choice, but can be enjoyed in moderation. ', 'Vegan', 'No', 'No news', 'The ingredients in Oreos include sugar, unbleached enriched flour, palm and/or canola oil, cocoa, invert sugar, leavening agents, soy lecithin, chocolate, salt, artificial flavor, and soybean oil. The filling is made from powdered sugar, palm and/or canola oil, soy lecithin, and artificial flavor. ']\n"
     ]
    }
   ],
   "source": [
    "# Use regex to extract all text between *** ***\n",
    "matches = re.findall(r'\\(\\*\\*\\*(.*?)\\*\\*\\*\\)', response_string)\n",
    "# Print extracted text\n",
    "print(matches)"
   ]
  },
  {
   "cell_type": "code",
   "execution_count": null,
   "metadata": {},
   "outputs": [],
   "source": []
  }
 ],
 "metadata": {
  "kernelspec": {
   "display_name": "Python 3",
   "language": "python",
   "name": "python3"
  },
  "language_info": {
   "codemirror_mode": {
    "name": "ipython",
    "version": 3
   },
   "file_extension": ".py",
   "mimetype": "text/x-python",
   "name": "python",
   "nbconvert_exporter": "python",
   "pygments_lexer": "ipython3",
   "version": "3.11.9"
  }
 },
 "nbformat": 4,
 "nbformat_minor": 2
}
