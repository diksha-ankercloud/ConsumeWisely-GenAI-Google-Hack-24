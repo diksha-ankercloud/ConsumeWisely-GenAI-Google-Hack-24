{
 "cells": [
  {
   "cell_type": "code",
   "execution_count": 1,
   "metadata": {},
   "outputs": [
    {
     "name": "stderr",
     "output_type": "stream",
     "text": [
      "\n",
      "[notice] A new release of pip is available: 24.0 -> 24.2\n",
      "[notice] To update, run: python.exe -m pip install --upgrade pip\n",
      "\n",
      "[notice] A new release of pip is available: 24.0 -> 24.2\n",
      "[notice] To update, run: python.exe -m pip install --upgrade pip\n",
      "\n",
      "[notice] A new release of pip is available: 24.0 -> 24.2\n",
      "[notice] To update, run: python.exe -m pip install --upgrade pip\n"
     ]
    }
   ],
   "source": [
    "!pip install --upgrade --user --quiet google-cloud-aiplatform\n",
    "!pip install -qU langchain-google-vertexai\n",
    "!pip install -qU \"langchain-community>=0.2.11\" tavily-python"
   ]
  },
  {
   "cell_type": "code",
   "execution_count": 1,
   "metadata": {},
   "outputs": [
    {
     "data": {
      "text/plain": [
       "True"
      ]
     },
     "execution_count": 1,
     "metadata": {},
     "output_type": "execute_result"
    }
   ],
   "source": [
    "import getpass\n",
    "import os\n",
    "from dotenv import load_dotenv\n",
    "import base64\n",
    "from langchain_core.prompts import HumanMessagePromptTemplate, ChatPromptTemplate\n",
    "from langchain_core.messages import SystemMessage, HumanMessage\n",
    "import re\n",
    "import getpass\n",
    "import os\n",
    "from dotenv import load_dotenv\n",
    "load_dotenv()"
   ]
  },
  {
   "cell_type": "code",
   "execution_count": 2,
   "metadata": {},
   "outputs": [],
   "source": [
    "load_dotenv()\n",
    "#os.environ[\"GOOGLE_API_KEY\"] = os.getenv(\"GOOGLE_API_KEY\")\n",
    "os.environ['GOOGLE_APPLICATION_CREDENTIALS'] = \"C:/Users/DELL/Downloads/13-Google-GenAI-Hack-24/GenAI-Google--Hack-24/Built-RAG/search_keys.json\"\n",
    "PROJECT_ID = \"vision-forge-414908\"  # @param {type:\"string\"}\n",
    "REGION = \"us-central1\"  # @param {type: \"string\"}\n",
    "import getpass\n",
    "import os\n",
    "os.environ[\"TAVILY_API_KEY\"] = os.getenv(\"TAVILY_API_KEY\")\n",
    "\n"
   ]
  },
  {
   "cell_type": "code",
   "execution_count": 3,
   "metadata": {},
   "outputs": [],
   "source": [
    "from langchain_community.tools import TavilySearchResults\n",
    "\n",
    "tools = TavilySearchResults(\n",
    "    max_results=5,\n",
    "    search_depth=\"advanced\",\n",
    "    include_answer=True,\n",
    "    include_raw_content=True,\n",
    "    include_images=True\n",
    "  \n",
    ")"
   ]
  },
  {
   "cell_type": "code",
   "execution_count": 4,
   "metadata": {},
   "outputs": [],
   "source": [
    "product = \"parle g biscuit\" \n",
    "PROMPT = f\"Give me the ingredients that are present in {product}\""
   ]
  },
  {
   "cell_type": "code",
   "execution_count": 5,
   "metadata": {},
   "outputs": [],
   "source": [
    "tavily_reply = tools.invoke({\"query\": PROMPT})\n",
    "first_reply = tavily_reply[0]\n",
    "ingredients = first_reply.get('content')\n",
    "\n"
   ]
  },
  {
   "cell_type": "code",
   "execution_count": 6,
   "metadata": {},
   "outputs": [],
   "source": [
    "import vertexai\n",
    "vertexai.init(project=PROJECT_ID, location=REGION)"
   ]
  },
  {
   "cell_type": "code",
   "execution_count": 7,
   "metadata": {},
   "outputs": [],
   "source": [
    "from IPython.display import Markdown, display\n",
    "from vertexai.generative_models import (\n",
    "    GenerationResponse,\n",
    "    GenerativeModel,\n",
    "    Tool,\n",
    "    grounding,\n",
    ")\n",
    "from vertexai.preview.generative_models import grounding as preview_grounding"
   ]
  },
  {
   "cell_type": "code",
   "execution_count": 8,
   "metadata": {},
   "outputs": [],
   "source": [
    "model = GenerativeModel(\"gemini-1.5-flash-001\")"
   ]
  },
  {
   "cell_type": "code",
   "execution_count": 9,
   "metadata": {},
   "outputs": [
    {
     "name": "stdout",
     "output_type": "stream",
     "text": [
      "Here's the information about Parle-G biscuits, categorized as you requested:\n",
      "\n",
      "*** **Category 1: Taste** ***\n",
      "\n",
      "Parle-G biscuits have a mildly sweet and slightly salty flavor.  They are known for their crunchy texture and a slightly grainy mouthfeel. Many describe the taste as reminiscent of a simple, classic biscuit, often enjoyed with tea or milk.\n",
      "\n",
      "*** **Category 2: Nutritional Benefits/Harms** ***\n",
      "\n",
      "* **Benefits:**\n",
      "    *  Parle-G is a source of carbohydrates, providing energy.\n",
      "    *  It contains some protein, which is important for building and repairing tissues.\n",
      "    *  Fortified with vitamins and minerals, although the specific amounts vary depending on the version.\n",
      "* **Harms:**\n",
      "    *  High in sugar content, which can contribute to weight gain and dental problems if consumed excessively.\n",
      "    *  Contains hydrogenated vegetable fat, which can raise bad cholesterol levels.\n",
      "    *  May not be suitable for people with gluten intolerance or dairy allergies.\n",
      "\n",
      "*** **Category 3: Suitable Diets** ***\n",
      "\n",
      "*** **Jain** ***\n",
      "\n",
      "*** **Category 4: Organic/Sustainability/Small Businesses** ***\n",
      "\n",
      "*** **No** ***\n",
      "\n",
      "*** **Category 5: Recent News** ***\n",
      "\n",
      "*** **No News** ***\n",
      "\n",
      "*** **Ingredients** ***\n",
      "\n",
      "The ingredients in Parle-G biscuits are:\n",
      "\n",
      "* Wheat flour\n",
      "* Sugar\n",
      "* RBD Palm Oil\n",
      "* Invert syrup\n",
      "* Leavening (Ammonium bicarbonate, Sodium bicarbonate)\n",
      "* Salt\n",
      "* Skim milk powder\n",
      "* Artificial vanilla flavour\n",
      "* Emulsifiers of vegetable origin (Soya lecithin or esters of mono and diglycerides and sodium stearoyl-2-lactoylate)\n",
      "* Sodium meta bisulphite as preservative \n",
      "\n",
      "Please note that the specific ingredients and their order may vary slightly depending on the manufacturer and the region where the product is made. \n",
      "\n"
     ]
    }
   ],
   "source": [
    "prompt_2 = f\"The prodcut is {product} and the ingredients are {ingredients}, now do the following.Category 1: Can you give me a brief of taste on what the {product} is and  add that full info in(*** ***). Category 2: Also only list the nutritional (benefits/harms) if there are any. Category:3(only mention relevant category): look if the product is suitable for a vegan or keto or jain or all diets and flag only the nsame of that diet of any or multiple suitable in  (*** ***). Category 4(single word answer):If the {product} is organic or supports sustainablity or small businesses add that in (*** ***) . Category 5: ALso if there is any recent news regarding {product} flag it in less than 3 words in (*** ***). Give me the ingredietns of this {product} from the internet (*** ***)\"\n",
    "tool = Tool.from_google_search_retrieval(grounding.GoogleSearchRetrieval())\n",
    "response = model.generate_content(prompt_2, tools=[tool])\n",
    "print(response.candidates[0].content.parts[0].text)\n",
    "\n",
    "\n",
    "\n",
    "\n",
    "\n",
    "\n",
    "response_string = str(response)\n",
    "\n",
    "     "
   ]
  },
  {
   "cell_type": "code",
   "execution_count": 22,
   "metadata": {},
   "outputs": [
    {
     "name": "stdout",
     "output_type": "stream",
     "text": [
      "['Mildly sweet with a hint of vanilla', 'Vegetarian', 'No', 'No news', 'WHEAT FLOUR, SUGAR, RBD PALM OIL, INVERT SYRUP, LEAVENING (AMMONIUM BICARBONATE, SODIUM BICARBONATE), SALT, SKIM MILK POWDER, ARTIFICIAL VANILLA FLAVOR, EMULSIFIERS OF VEGETABLE ORIGIN (SOYA LECITHIN OR ESTERS OF MONO AND DIGLYCERIDES AND SODIUM STEAROYL-2-LACTYLATE) AND SODIUM META BISULPHITE AS PRESERVATIVE.']\n"
     ]
    }
   ],
   "source": [
    "# Use regex to extract all text between *** ***\n",
    "matches = re.findall(r'\\(\\*\\*\\*(.*?)\\*\\*\\*\\)', response_string)\n",
    "# Print extracted text\n",
    "print(matches)"
   ]
  },
  {
   "cell_type": "code",
   "execution_count": null,
   "metadata": {},
   "outputs": [],
   "source": []
  }
 ],
 "metadata": {
  "kernelspec": {
   "display_name": "Python 3",
   "language": "python",
   "name": "python3"
  },
  "language_info": {
   "codemirror_mode": {
    "name": "ipython",
    "version": 3
   },
   "file_extension": ".py",
   "mimetype": "text/x-python",
   "name": "python",
   "nbconvert_exporter": "python",
   "pygments_lexer": "ipython3",
   "version": "3.11.9"
  }
 },
 "nbformat": 4,
 "nbformat_minor": 2
}
