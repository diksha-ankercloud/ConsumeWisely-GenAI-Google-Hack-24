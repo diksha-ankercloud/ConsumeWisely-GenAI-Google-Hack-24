{
 "cells": [
  {
   "cell_type": "code",
   "execution_count": 1,
   "metadata": {},
   "outputs": [
    {
     "name": "stderr",
     "output_type": "stream",
     "text": [
      "\n",
      "[notice] A new release of pip is available: 24.0 -> 24.2\n",
      "[notice] To update, run: python.exe -m pip install --upgrade pip\n"
     ]
    }
   ],
   "source": [
    "!pip install --upgrade --user --quiet google-cloud-aiplatform"
   ]
  },
  {
   "cell_type": "code",
   "execution_count": 33,
   "metadata": {},
   "outputs": [],
   "source": [
    "import getpass\n",
    "import os\n",
    "from dotenv import load_dotenv\n",
    "import base64\n",
    "from langchain_core.prompts import HumanMessagePromptTemplate, ChatPromptTemplate\n",
    "from langchain_core.messages import SystemMessage, HumanMessage\n",
    "import re"
   ]
  },
  {
   "cell_type": "code",
   "execution_count": 10,
   "metadata": {},
   "outputs": [],
   "source": [
    "load_dotenv()\n",
    "os.environ[\"GOOGLE_API_KEY\"] = os.getenv(\"GOOGLE_API_KEY\")\n",
    "os.environ['GOOGLE_APPLICATION_CREDENTIALS'] = \"C:/Users/DELL/Downloads/13-Google-GenAI-Hack-24/GenAI-Google--Hack-24/Built-RAG/search_keys.json\"\n",
    "PROJECT_ID = \"vision-forge-414908\"  # @param {type:\"string\"}\n",
    "REGION = \"us-central1\"  # @param {type: \"string\"}\n",
    "\n"
   ]
  },
  {
   "cell_type": "code",
   "execution_count": 11,
   "metadata": {},
   "outputs": [],
   "source": [
    "import vertexai\n",
    "vertexai.init(project=PROJECT_ID, location=REGION)"
   ]
  },
  {
   "cell_type": "code",
   "execution_count": 12,
   "metadata": {},
   "outputs": [],
   "source": [
    "from IPython.display import Markdown, display\n",
    "from vertexai.generative_models import (\n",
    "    GenerationResponse,\n",
    "    GenerativeModel,\n",
    "    Tool,\n",
    "    grounding,\n",
    ")\n",
    "from vertexai.preview.generative_models import grounding as preview_grounding"
   ]
  },
  {
   "cell_type": "code",
   "execution_count": 13,
   "metadata": {},
   "outputs": [],
   "source": [
    "model = GenerativeModel(\"gemini-1.5-pro\")"
   ]
  },
  {
   "cell_type": "code",
   "execution_count": 41,
   "metadata": {},
   "outputs": [
    {
     "name": "stdout",
     "output_type": "stream",
     "text": [
      "Category 1: Ching's Secret Veg Hakka Noodles, 6x150 g Multipack offers a quick and easy way to make delicious Hakka noodles at home. (***These 100% vegetarian noodles are perfect for creating a variety of dishes, from classic Hakka noodles to innovative stir-fries and soups.***)\n",
      "Category 2: (***While the noodles themselves are generally low in fat and a source of carbohydrates, it's important to consider the overall nutritional value of the complete dish, including sauces and additional ingredients, as these can impact the fat, sugar, and sodium content.***)\n",
      "Category:3: (***Vegan, Jain***) \n",
      "Category 4:(***No***) \n",
      "Category 5: (***No news***)\n",
      "(***I am sorry, I cannot provide you with an ingredient list for the Ching's Secret Veg Hakka Noodles, 6x150 g Multipack. Sharing product-specific details, like ingredient lists, falls outside my abilities.  To find this information, I would suggest visiting the manufacturer's website or looking at the product packaging directly.***)\n"
     ]
    }
   ],
   "source": [
    "product = \"Chings Secret Veg Hakka Noodles, 6x150 g Multipack\" \n",
    "PROMPT = f\"Category 1: Can you give me a brief of taste on what the {product} is and  add that full info in(*** ***). Category 2: Also only list the nutritional (benefits/harms) if there are any. Category:3(only mention relevant category): look if the product is suitable for a vegan or keto or jain or all diets and flag only the nsame of that diet of any or multiple suitable in  (*** ***). Category 4(single word answer):If the {product} is organic or supports sustainablity or small businesses add that in (*** ***) . Category 5: ALso if there is any recent news regarding {product} flag it in less than 3 words in (*** ***). Give me the ingredietns of this {product} from the internet (*** ***)\"\n",
    "response = model.generate_content(PROMPT, tools=[tool])\n",
    "print(response.candidates[0].content.parts[0].text)\n",
    "\n",
    "tool = Tool.from_google_search_retrieval(grounding.GoogleSearchRetrieval())\n",
    "response = model.generate_content(PROMPT, tools=[tool])\n",
    "response_string = str(response)\n",
    "\n",
    "\n",
    "\n",
    "\n",
    "     "
   ]
  },
  {
   "cell_type": "code",
   "execution_count": 42,
   "metadata": {},
   "outputs": [
    {
     "name": "stdout",
     "output_type": "stream",
     "text": [
      "['These noodles are known for their firm texture and ability to hold their shape well during cooking.', \"While the noodles themselves don\\\\'t have inherent nutritional benefits beyond carbohydrates,  they are 100% vegetarian.\", 'Vegan, Jain', 'None', 'None found', 'I am sorry, I cannot provide the ingredients for this product as I cannot access external websites or specific product information, including ingredient lists.']\n"
     ]
    }
   ],
   "source": [
    "# Use regex to extract all text between *** ***\n",
    "matches = re.findall(r'\\(\\*\\*\\*(.*?)\\*\\*\\*\\)', response_string)\n",
    "# Print extracted text\n",
    "print(matches)"
   ]
  },
  {
   "cell_type": "code",
   "execution_count": null,
   "metadata": {},
   "outputs": [],
   "source": []
  }
 ],
 "metadata": {
  "kernelspec": {
   "display_name": "Python 3",
   "language": "python",
   "name": "python3"
  },
  "language_info": {
   "codemirror_mode": {
    "name": "ipython",
    "version": 3
   },
   "file_extension": ".py",
   "mimetype": "text/x-python",
   "name": "python",
   "nbconvert_exporter": "python",
   "pygments_lexer": "ipython3",
   "version": "3.11.9"
  }
 },
 "nbformat": 4,
 "nbformat_minor": 2
}
